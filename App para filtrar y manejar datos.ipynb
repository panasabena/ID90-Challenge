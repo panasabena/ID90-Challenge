{
 "cells": [
  {
   "cell_type": "code",
   "execution_count": 1,
   "id": "9f492ddc-6da2-4ba2-bea2-d054ac6e2fa6",
   "metadata": {},
   "outputs": [],
   "source": [
    "## App para filtros interactivos"
   ]
  },
  {
   "cell_type": "code",
   "execution_count": 1,
   "id": "c445e9c9-9268-429b-a473-e319c89edefc",
   "metadata": {},
   "outputs": [],
   "source": [
    "## Importamos librerías\n",
    "import pandas as pd\n",
    "import matplotlib.pyplot as plt\n",
    "import seaborn as sns\n",
    "import ipywidgets as widgets\n",
    "from IPython.display import display, clear_output\n",
    "import numpy as np\n",
    "import os\n",
    "import datetime"
   ]
  },
  {
   "cell_type": "code",
   "execution_count": 6,
   "id": "287ee851-4404-4f62-bb7f-7510ed2893a0",
   "metadata": {},
   "outputs": [],
   "source": [
    "date_cols_to_parse = ['Signup Date','Last Login Date','First Order Date','Last Order Date']"
   ]
  },
  {
   "cell_type": "code",
   "execution_count": 7,
   "id": "7f28e580-7c00-4382-8b5b-89c3365fa407",
   "metadata": {},
   "outputs": [
    {
     "name": "stdout",
     "output_type": "stream",
     "text": [
      "Tipos de datos después de la carga inicial:\n",
      "<class 'pandas.core.frame.DataFrame'>\n",
      "RangeIndex: 197639 entries, 0 to 197638\n",
      "Data columns (total 9 columns):\n",
      " #   Column            Non-Null Count   Dtype         \n",
      "---  ------            --------------   -----         \n",
      " 0   Member ID         197639 non-null  int64         \n",
      " 1   Signup Date       197639 non-null  datetime64[ns]\n",
      " 2   Last Login Date   195622 non-null  datetime64[ns]\n",
      " 3   Purchases         197639 non-null  int64         \n",
      " 4   Total Amount      197639 non-null  float64       \n",
      " 5   Credit Amount     74379 non-null   float64       \n",
      " 6   First Order Date  197639 non-null  datetime64[ns]\n",
      " 7   Last Order Date   197639 non-null  datetime64[ns]\n",
      " 8   Signup Year       197639 non-null  int32         \n",
      "dtypes: datetime64[ns](4), float64(2), int32(1), int64(2)\n",
      "memory usage: 12.8 MB\n",
      "None\n",
      "\n",
      "\n",
      "--- Filtros Interactivos ---\n"
     ]
    },
    {
     "data": {
      "application/vnd.jupyter.widget-view+json": {
       "model_id": "0859136c749c4b7aa0f34cb666930695",
       "version_major": 2,
       "version_minor": 0
      },
      "text/plain": [
       "VBox(children=(HBox(children=(IntRangeSlider(value=(2015, 2023), description='Signup Year Range:', layout=Layo…"
      ]
     },
     "metadata": {},
     "output_type": "display_data"
    },
    {
     "name": "stdout",
     "output_type": "stream",
     "text": [
      "\n",
      "--- Opciones de Ordenamiento ---\n"
     ]
    },
    {
     "data": {
      "application/vnd.jupyter.widget-view+json": {
       "model_id": "12eafa71977d4c4a9829de5d92c74382",
       "version_major": 2,
       "version_minor": 0
      },
      "text/plain": [
       "HBox(children=(Dropdown(description='Sort by Column:', layout=Layout(width='200px'), options=('None', 'Member …"
      ]
     },
     "metadata": {},
     "output_type": "display_data"
    },
    {
     "name": "stdout",
     "output_type": "stream",
     "text": [
      "\n",
      "--- Guardar DataFrame ---\n"
     ]
    },
    {
     "data": {
      "application/vnd.jupyter.widget-view+json": {
       "model_id": "be29164d781f421b8404d5a4a2143113",
       "version_major": 2,
       "version_minor": 0
      },
      "text/plain": [
       "Button(button_style='success', description='Guardar DataFrame Filtrado', style=ButtonStyle(), tooltip='Click t…"
      ]
     },
     "metadata": {},
     "output_type": "display_data"
    },
    {
     "data": {
      "application/vnd.jupyter.widget-view+json": {
       "model_id": "626740beac84451dbbe8cbaa3a70b329",
       "version_major": 2,
       "version_minor": 0
      },
      "text/plain": [
       "Output()"
      ]
     },
     "metadata": {},
     "output_type": "display_data"
    },
    {
     "data": {
      "application/vnd.jupyter.widget-view+json": {
       "model_id": "baa0bfab3e014a34a440a919677d29b4",
       "version_major": 2,
       "version_minor": 0
      },
      "text/plain": [
       "Output()"
      ]
     },
     "metadata": {},
     "output_type": "display_data"
    }
   ],
   "source": [
    "\n",
    "\n",
    "# ==============================================================================\n",
    "\n",
    "df_para_filtrar = pd.read_csv('purchases_df_processed.csv', parse_dates=date_cols_to_parse)\n",
    "\n",
    "# Asigne su DataFrame al nombre 'df_para_filtrar'\n",
    "#\n",
    "# SIEMPRE DEBE TENER UNA DE LAS SIGUIENTES DOS LÍNEAS ACTIVAS:\n",
    "# 1. Si ya tiene su DataFrame cargado en una variable (ej. 'mi_dataframe_de_ventas'):\n",
    "# df_para_filtrar = pd.read_csv(\"purchases_df_processed.csv\")\n",
    "\n",
    "# 2. Si necesita cargar su DataFrame desde un CSV:\n",
    "# Aquí es donde añadimos 'parse_dates' para automatizar la conversión\n",
    "# Asegúrate de que los nombres de las columnas en esta lista coincidan con los de tu CSV\n",
    "\n",
    "df_para_filtrar = pd.read_csv('purchases_df_processed.csv', parse_dates=date_cols_to_parse)\n",
    "# ==============================================================================\n",
    "\n",
    "# --- 2. Preprocesamiento: (Solo si necesitas ajustes adicionales o no todas las fechas se convirtieron) ---\n",
    "# df_para_filtrar['Signup Date'] = pd.to_datetime(df_para_filtrar['Signup Date'], errors='coerce') # Ya manejado por parse_dates\n",
    "# df_para_filtrar['Last Login Date'] = pd.to_datetime(df_para_filtrar['Last Login Date'], errors='coerce') # Útil si hay problemas después de parse_dates\n",
    "# df_para_filtrar['First Order Date'] = pd.to_datetime(df_para_filtrar['First Order Date'], errors='coerce') # Ya manejado por parse_dates\n",
    "# df_para_filtrar['Last Order Date'] = pd.to_datetime(df_para_filtrar['Last Order Date'], errors='coerce') # Ya manejado por parse_dates\n",
    "\n",
    "# AÑADE ESTA LÍNEA SIEMPRE QUE TU ARCHIVO ORIGINAL NO TENGA ESTA COLUMNA.\n",
    "# Si 'Signup Year' ya está en tu CSV procesado, esta línea es opcional.\n",
    "# Si no lo está, asegúrate de que se cree aquí.\n",
    "df_para_filtrar['Signup Year'] = df_para_filtrar['Signup Date'].dt.year\n",
    "\n",
    "# --- Opcional: Para verificar que los tipos de datos se cargaron correctamente ---\n",
    "print(\"Tipos de datos después de la carga inicial:\")\n",
    "print(df_para_filtrar.info())\n",
    "print(\"\\n\")\n",
    "\n",
    "\n",
    "# --- 3. Definir los widgets interactivos ---\n",
    "# Ahora los valores min/max se tomarán del DataFrame ya con tipos datetime\n",
    "min_year = df_para_filtrar['Signup Year'].min()\n",
    "max_year = df_para_filtrar['Signup Year'].max()\n",
    "year_slider = widgets.IntRangeSlider(\n",
    "    value=[min_year, max_year],\n",
    "    min=min_year, max=max_year, step=1,\n",
    "    description='Signup Year Range:',\n",
    "    continuous_update=True, readout=True, readout_format='d',\n",
    "    layout=widgets.Layout(width='500px')\n",
    ")\n",
    "\n",
    "member_id_input = widgets.Text(\n",
    "    value='', placeholder='Enter Member ID (e.g., 123 or 123,456)',\n",
    "    description='Filter by Member ID:',\n",
    "    layout=widgets.Layout(width='300px')\n",
    ")\n",
    "\n",
    "min_purchases = df_para_filtrar['Purchases'].min()\n",
    "max_purchases = df_para_filtrar['Purchases'].max()\n",
    "purchases_slider = widgets.IntRangeSlider(\n",
    "    value=[min_purchases, max_purchases],\n",
    "    min=min_purchases, max=max_purchases, step=1,\n",
    "    description='Purchases Range:',\n",
    "    continuous_update=True, readout=True, readout_format='d',\n",
    "    layout=widgets.Layout(width='500px')\n",
    ")\n",
    "\n",
    "# min/max dates for pickers will be datetime.date objects after initial parsing\n",
    "min_first_order_date = df_para_filtrar['First Order Date'].min().date()\n",
    "max_first_order_date = df_para_filtrar['First Order Date'].max().date()\n",
    "first_order_date_start = widgets.DatePicker(\n",
    "    description='First Order (Start):',\n",
    "    value=min_first_order_date,\n",
    "    min=min_first_order_date,\n",
    "    max=max_first_order_date,\n",
    "    disabled=False\n",
    ")\n",
    "first_order_date_end = widgets.DatePicker(\n",
    "    description='First Order (End):',\n",
    "    value=max_first_order_date,\n",
    "    min=min_first_order_date,\n",
    "    max=max_first_order_date,\n",
    "    disabled=False\n",
    ")\n",
    "\n",
    "min_last_order_date = df_para_filtrar['Last Order Date'].min().date()\n",
    "max_last_order_date = df_para_filtrar['Last Order Date'].max().date()\n",
    "last_order_date_start = widgets.DatePicker(\n",
    "    description='Last Order (Start):',\n",
    "    value=min_last_order_date,\n",
    "    min=min_last_order_date,\n",
    "    max=max_last_order_date,\n",
    "    disabled=False\n",
    ")\n",
    "last_order_date_end = widgets.DatePicker(\n",
    "    description='Last Order (End):',\n",
    "    value=max_last_order_date,\n",
    "    min=min_last_order_date,\n",
    "    max=max_last_order_date,\n",
    "    disabled=False\n",
    ")\n",
    "\n",
    "sort_column_dropdown = widgets.Dropdown(\n",
    "    options=['None'] + list(df_para_filtrar.columns),\n",
    "    value='None',\n",
    "    description='Sort by Column:',\n",
    "    layout=widgets.Layout(width='200px')\n",
    ")\n",
    "\n",
    "sort_ascending_checkbox = widgets.Checkbox(\n",
    "    value=True,\n",
    "    description='Sort Ascending',\n",
    "    disabled=False,\n",
    "    indent=False\n",
    ")\n",
    "\n",
    "save_button = widgets.Button(\n",
    "    description='Guardar DataFrame Filtrado',\n",
    "    button_style='success',\n",
    "    tooltip='Click to save the current filtered DataFrame to a CSV file.'\n",
    ")\n",
    "save_output_message = widgets.Output()\n",
    "\n",
    "output_area = widgets.Output()\n",
    "\n",
    "current_filtered_df = pd.DataFrame()\n",
    "\n",
    "def apply_filters_and_sort(year_range, member_id_str, purchases_range,\n",
    "                           fo_start, fo_end, lo_start, lo_end,\n",
    "                           sort_column, sort_ascending):\n",
    "    global current_filtered_df\n",
    "\n",
    "    with output_area:\n",
    "        clear_output(wait=True)\n",
    "\n",
    "        filtered_df = df_para_filtrar.copy()\n",
    "\n",
    "        start_year, end_year = year_range\n",
    "        filtered_df = filtered_df[\n",
    "            (filtered_df['Signup Year'] >= start_year) &\n",
    "            (filtered_df['Signup Year'] <= end_year)\n",
    "        ]\n",
    "\n",
    "        min_p, max_p = purchases_range\n",
    "        filtered_df = filtered_df[\n",
    "            (filtered_df['Purchases'] >= min_p) &\n",
    "            (filtered_df['Purchases'] <= max_p)\n",
    "        ]\n",
    "\n",
    "        if member_id_str:\n",
    "            try:\n",
    "                member_ids_to_filter = [int(mid.strip()) for mid in member_id_str.split(',') if mid.strip()]\n",
    "                filtered_df = filtered_df[filtered_df['Member ID'].isin(member_ids_to_filter)]\n",
    "            except ValueError:\n",
    "                print(\"Invalid Member ID(s). Please enter comma-separated numbers.\")\n",
    "                display(filtered_df.head())\n",
    "                return\n",
    "\n",
    "        if fo_start and fo_end:\n",
    "            filtered_df = filtered_df[\n",
    "                (filtered_df['First Order Date'].dt.date >= fo_start) &\n",
    "                (filtered_df['First Order Date'].dt.date <= fo_end)\n",
    "            ]\n",
    "\n",
    "        if lo_start and lo_end:\n",
    "            filtered_df = filtered_df[\n",
    "                (filtered_df['Last Order Date'].dt.date >= lo_start) &\n",
    "                (filtered_df['Last Order Date'].dt.date <= lo_end)\n",
    "            ]\n",
    "\n",
    "        if sort_column != 'None':\n",
    "            if sort_column in filtered_df.columns:\n",
    "                filtered_df = filtered_df.sort_values(by=sort_column, ascending=sort_ascending)\n",
    "            else:\n",
    "                print(f\"Warning: Column '{sort_column}' not found for sorting.\")\n",
    "\n",
    "        current_filtered_df = filtered_df.copy()\n",
    "\n",
    "        print(f\"Mostrando {len(current_filtered_df)} de {len(df_para_filtrar)} filas.\")\n",
    "        display(current_filtered_df.head(10))\n",
    "\n",
    "def save_filtered_df(button):\n",
    "    with save_output_message:\n",
    "        clear_output(wait=True)\n",
    "        if not current_filtered_df.empty:\n",
    "            timestamp = datetime.datetime.now().strftime(\"%Y%m%d_%H%M%S\")\n",
    "            file_name = f\"filtered_df_output_{timestamp}.csv\"\n",
    "            \n",
    "            current_dir = os.getcwd()\n",
    "            save_path = os.path.join(current_dir, file_name)\n",
    "\n",
    "            try:\n",
    "                current_filtered_df.to_csv(save_path, index=False)\n",
    "                print(f\"DataFrame guardado exitosamente en: {save_path}\")\n",
    "            except Exception as e:\n",
    "                print(f\"Error al guardar el DataFrame: {e}\")\n",
    "        else:\n",
    "            print(\"No hay DataFrame filtrado para guardar. Aplica algún filtro primero.\")\n",
    "\n",
    "save_button.on_click(save_filtered_df)\n",
    "\n",
    "widgets.interactive_output(\n",
    "    apply_filters_and_sort,\n",
    "    {\n",
    "        'year_range': year_slider,\n",
    "        'member_id_str': member_id_input,\n",
    "        'purchases_range': purchases_slider,\n",
    "        'fo_start': first_order_date_start,\n",
    "        'fo_end': first_order_date_end,\n",
    "        'lo_start': last_order_date_start,\n",
    "        'lo_end': last_order_date_end,\n",
    "        'sort_column': sort_column_dropdown,\n",
    "        'sort_ascending': sort_ascending_checkbox\n",
    "    }\n",
    ")\n",
    "\n",
    "print(\"--- Filtros Interactivos ---\")\n",
    "display(\n",
    "    widgets.VBox([\n",
    "        widgets.HBox([year_slider, purchases_slider]),\n",
    "        widgets.HBox([member_id_input]),\n",
    "        widgets.HBox([first_order_date_start, first_order_date_end]),\n",
    "        widgets.HBox([last_order_date_start, last_order_date_end])\n",
    "    ])\n",
    ")\n",
    "\n",
    "print(\"\\n--- Opciones de Ordenamiento ---\")\n",
    "display(\n",
    "    widgets.HBox([sort_column_dropdown, sort_ascending_checkbox])\n",
    ")\n",
    "\n",
    "print(\"\\n--- Guardar DataFrame ---\")\n",
    "display(save_button, save_output_message)\n",
    "\n",
    "display(output_area)"
   ]
  },
  {
   "cell_type": "code",
   "execution_count": null,
   "id": "52d0c499-ab61-4496-bddc-6ecd8bd0a5b1",
   "metadata": {},
   "outputs": [],
   "source": []
  }
 ],
 "metadata": {
  "kernelspec": {
   "display_name": "Python 3 (ipykernel)",
   "language": "python",
   "name": "python3"
  },
  "language_info": {
   "codemirror_mode": {
    "name": "ipython",
    "version": 3
   },
   "file_extension": ".py",
   "mimetype": "text/x-python",
   "name": "python",
   "nbconvert_exporter": "python",
   "pygments_lexer": "ipython3",
   "version": "3.9.23"
  }
 },
 "nbformat": 4,
 "nbformat_minor": 5
}
